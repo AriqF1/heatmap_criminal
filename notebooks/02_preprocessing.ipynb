{
 "cells": [
  {
   "cell_type": "code",
   "execution_count": 1,
   "id": "0c8e6c6e",
   "metadata": {},
   "outputs": [
    {
     "data": {
      "text/html": [
       "<div>\n",
       "<style scoped>\n",
       "    .dataframe tbody tr th:only-of-type {\n",
       "        vertical-align: middle;\n",
       "    }\n",
       "\n",
       "    .dataframe tbody tr th {\n",
       "        vertical-align: top;\n",
       "    }\n",
       "\n",
       "    .dataframe thead th {\n",
       "        text-align: right;\n",
       "    }\n",
       "</style>\n",
       "<table border=\"1\" class=\"dataframe\">\n",
       "  <thead>\n",
       "    <tr style=\"text-align: right;\">\n",
       "      <th></th>\n",
       "      <th>Id</th>\n",
       "      <th>Dates</th>\n",
       "      <th>DayOfWeek</th>\n",
       "      <th>PdDistrict</th>\n",
       "      <th>Address</th>\n",
       "      <th>X</th>\n",
       "      <th>Y</th>\n",
       "    </tr>\n",
       "  </thead>\n",
       "  <tbody>\n",
       "    <tr>\n",
       "      <th>0</th>\n",
       "      <td>0</td>\n",
       "      <td>5/10/2015 23:59</td>\n",
       "      <td>Sunday</td>\n",
       "      <td>BAYVIEW</td>\n",
       "      <td>2000 Block of THOMAS AV</td>\n",
       "      <td>-122.399588</td>\n",
       "      <td>37.735051</td>\n",
       "    </tr>\n",
       "    <tr>\n",
       "      <th>1</th>\n",
       "      <td>1</td>\n",
       "      <td>5/10/2015 23:51</td>\n",
       "      <td>Sunday</td>\n",
       "      <td>BAYVIEW</td>\n",
       "      <td>3RD ST / REVERE AV</td>\n",
       "      <td>-122.391523</td>\n",
       "      <td>37.732432</td>\n",
       "    </tr>\n",
       "    <tr>\n",
       "      <th>2</th>\n",
       "      <td>2</td>\n",
       "      <td>5/10/2015 23:50</td>\n",
       "      <td>Sunday</td>\n",
       "      <td>NORTHERN</td>\n",
       "      <td>2000 Block of GOUGH ST</td>\n",
       "      <td>-122.426002</td>\n",
       "      <td>37.792212</td>\n",
       "    </tr>\n",
       "    <tr>\n",
       "      <th>3</th>\n",
       "      <td>3</td>\n",
       "      <td>5/10/2015 23:45</td>\n",
       "      <td>Sunday</td>\n",
       "      <td>INGLESIDE</td>\n",
       "      <td>4700 Block of MISSION ST</td>\n",
       "      <td>-122.437394</td>\n",
       "      <td>37.721412</td>\n",
       "    </tr>\n",
       "    <tr>\n",
       "      <th>4</th>\n",
       "      <td>4</td>\n",
       "      <td>5/10/2015 23:45</td>\n",
       "      <td>Sunday</td>\n",
       "      <td>INGLESIDE</td>\n",
       "      <td>4700 Block of MISSION ST</td>\n",
       "      <td>-122.437394</td>\n",
       "      <td>37.721412</td>\n",
       "    </tr>\n",
       "  </tbody>\n",
       "</table>\n",
       "</div>"
      ],
      "text/plain": [
       "   Id            Dates DayOfWeek PdDistrict                   Address  \\\n",
       "0   0  5/10/2015 23:59    Sunday    BAYVIEW   2000 Block of THOMAS AV   \n",
       "1   1  5/10/2015 23:51    Sunday    BAYVIEW        3RD ST / REVERE AV   \n",
       "2   2  5/10/2015 23:50    Sunday   NORTHERN    2000 Block of GOUGH ST   \n",
       "3   3  5/10/2015 23:45    Sunday  INGLESIDE  4700 Block of MISSION ST   \n",
       "4   4  5/10/2015 23:45    Sunday  INGLESIDE  4700 Block of MISSION ST   \n",
       "\n",
       "            X          Y  \n",
       "0 -122.399588  37.735051  \n",
       "1 -122.391523  37.732432  \n",
       "2 -122.426002  37.792212  \n",
       "3 -122.437394  37.721412  \n",
       "4 -122.437394  37.721412  "
      ]
     },
     "execution_count": 1,
     "metadata": {},
     "output_type": "execute_result"
    }
   ],
   "source": [
    "import pandas as pd\n",
    "\n",
    "# Membaca data dari folder data/01_raw\n",
    "df = pd.read_csv('../data/01_raw/criminal_data.csv')\n",
    "df.head()\n"
   ]
  },
  {
   "cell_type": "markdown",
   "id": "4a297b98",
   "metadata": {},
   "source": [
    "## 🧹 Langkah 1: Menghapus Data Duplikat Berdasarkan Kolom Tertentu\n",
    "Pada tahap awal pembersihan data, kita ingin menghapus baris-baris yang memiliki data kejadian kriminal yang identik berdasarkan beberapa kolom penting, yaitu:\n",
    "- Dates → waktu kejadian\n",
    "- PdDistrict → distrik kepolisian\n",
    "- Address → lokasi kejadian\n",
    "- X dan Y → koordinat geografis\n",
    "Dengan menggunakan subset pada fungsi duplicated(), kita dapat menghitung jumlah baris duplikat berdasarkan kolom-kolom tersebut saja:"
   ]
  },
  {
   "cell_type": "code",
   "execution_count": 2,
   "id": "285e9dbe",
   "metadata": {},
   "outputs": [
    {
     "data": {
      "text/plain": [
       "np.int64(188352)"
      ]
     },
     "execution_count": 2,
     "metadata": {},
     "output_type": "execute_result"
    }
   ],
   "source": [
    "subset_cols = ['Dates', 'PdDistrict', 'Address', 'X', 'Y']\n",
    "df.duplicated(subset=subset_cols).sum()"
   ]
  },
  {
   "cell_type": "code",
   "execution_count": 3,
   "id": "12a42599",
   "metadata": {},
   "outputs": [],
   "source": [
    "df = df.drop_duplicates(subset=subset_cols)"
   ]
  },
  {
   "cell_type": "code",
   "execution_count": 5,
   "id": "9085fbdd",
   "metadata": {},
   "outputs": [
    {
     "name": "stdout",
     "output_type": "stream",
     "text": [
      "Jumlah data setelah di hapus duplikatnya: 695910\n"
     ]
    }
   ],
   "source": [
    "print(f\"Jumlah data setelah di hapus duplikatnya: {len(df)}\")"
   ]
  },
  {
   "cell_type": "markdown",
   "id": "b8073877",
   "metadata": {},
   "source": [
    "## 🕒 Langkah 2: Parsing Kolom Waktu (Dates)\n",
    "Setelah data dibersihkan dari duplikat, langkah selanjutnya adalah mengonversi kolom Dates dari format string menjadi objek datetime. Hal ini penting untuk memudahkan analisis waktu, seperti:\n",
    "- Menentukan rentang waktu data\n",
    "- Mengekstrak jam, hari, atau bulan\n",
    "- Visualisasi tren kejadian berdasarkan waktu\n",
    "\n",
    "Proses parsing dilakukan dengan menggunakan pd.to_datetime() dari library pandas:"
   ]
  },
  {
   "cell_type": "code",
   "execution_count": 6,
   "id": "b2ae21c8",
   "metadata": {},
   "outputs": [],
   "source": [
    "df['Dates'] = pd.to_datetime(df['Dates'])"
   ]
  },
  {
   "cell_type": "code",
   "execution_count": 10,
   "id": "4826b001",
   "metadata": {},
   "outputs": [
    {
     "name": "stdout",
     "output_type": "stream",
     "text": [
      "Rentang waktu data kejadian tercatat dimulai dari tahun 2003-01-01 00:01:00 sampai dengan tahun 2015-05-10 23:59:00\n"
     ]
    }
   ],
   "source": [
    "print(f\"Rentang waktu data kejadian tercatat dimulai dari tahun {df['Dates'].min()}\" f\" sampai dengan tahun {df['Dates'].max()}\")"
   ]
  },
  {
   "cell_type": "markdown",
   "id": "98f21ed7",
   "metadata": {},
   "source": [
    "## 🗓️ Langkah 3: Menambahkan Fitur Waktu dari Kolom Dates\n",
    "Setelah kolom Dates berhasil diubah menjadi format datetime, kita dapat mengekstrak beberapa informasi penting untuk analisis waktu lebih lanjut. Fitur waktu ini sangat berguna untuk memahami pola kriminal berdasarkan waktu.\n",
    "\n",
    "Beberapa fitur yang akan ditambahkan:\n",
    "- hour → jam kejadian\n",
    "- day → tanggal kejadian\n",
    "- month → bulan kejadian\n",
    "- year → tahun kejadian\n",
    "- weekday → nama hari (Senin, Selasa, dst.)"
   ]
  },
  {
   "cell_type": "code",
   "execution_count": 11,
   "id": "ad0d3283",
   "metadata": {},
   "outputs": [],
   "source": [
    "df['Hour'] = df['Dates'].dt.hour\n",
    "df['Day'] = df['Dates'].dt.day\n",
    "df['Month'] = df['Dates'].dt.month\n",
    "df['Year'] = df['Dates'].dt.year\n",
    "df['Weekday'] = df['Dates'].dt.day_name()"
   ]
  },
  {
   "cell_type": "code",
   "execution_count": null,
   "id": "e75ef4ec",
   "metadata": {},
   "outputs": [
    {
     "name": "stdout",
     "output_type": "stream",
     "text": [
      "   Hour  Day  Month  Year Weekday\n",
      "0    23   10      5  2015  Sunday\n",
      "1    23   10      5  2015  Sunday\n",
      "2    23   10      5  2015  Sunday\n",
      "3    23   10      5  2015  Sunday\n",
      "5    23   10      5  2015  Sunday\n"
     ]
    }
   ],
   "source": [
    "print(df[['Hour', 'Day', 'Month', 'Year', 'Weekday']].head())"
   ]
  },
  {
   "cell_type": "code",
   "execution_count": 17,
   "id": "8db9fd5d",
   "metadata": {},
   "outputs": [],
   "source": [
    "# Simpan data\n",
    "df.to_csv('../data/02_interim/criminal_data_clean.csv', index=False)"
   ]
  }
 ],
 "metadata": {
  "kernelspec": {
   "display_name": "Python 3",
   "language": "python",
   "name": "python3"
  },
  "language_info": {
   "codemirror_mode": {
    "name": "ipython",
    "version": 3
   },
   "file_extension": ".py",
   "mimetype": "text/x-python",
   "name": "python",
   "nbconvert_exporter": "python",
   "pygments_lexer": "ipython3",
   "version": "3.13.3"
  }
 },
 "nbformat": 4,
 "nbformat_minor": 5
}
