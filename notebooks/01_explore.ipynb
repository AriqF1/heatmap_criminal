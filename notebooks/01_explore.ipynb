{
 "cells": [
  {
   "cell_type": "code",
   "execution_count": null,
   "id": "67ad05c5",
   "metadata": {},
   "outputs": [
    {
     "data": {
      "text/html": [
       "<div>\n",
       "<style scoped>\n",
       "    .dataframe tbody tr th:only-of-type {\n",
       "        vertical-align: middle;\n",
       "    }\n",
       "\n",
       "    .dataframe tbody tr th {\n",
       "        vertical-align: top;\n",
       "    }\n",
       "\n",
       "    .dataframe thead th {\n",
       "        text-align: right;\n",
       "    }\n",
       "</style>\n",
       "<table border=\"1\" class=\"dataframe\">\n",
       "  <thead>\n",
       "    <tr style=\"text-align: right;\">\n",
       "      <th></th>\n",
       "      <th>Id</th>\n",
       "      <th>Dates</th>\n",
       "      <th>DayOfWeek</th>\n",
       "      <th>PdDistrict</th>\n",
       "      <th>Address</th>\n",
       "      <th>X</th>\n",
       "      <th>Y</th>\n",
       "    </tr>\n",
       "  </thead>\n",
       "  <tbody>\n",
       "    <tr>\n",
       "      <th>0</th>\n",
       "      <td>0</td>\n",
       "      <td>5/10/2015 23:59</td>\n",
       "      <td>Sunday</td>\n",
       "      <td>BAYVIEW</td>\n",
       "      <td>2000 Block of THOMAS AV</td>\n",
       "      <td>-122.399588</td>\n",
       "      <td>37.735051</td>\n",
       "    </tr>\n",
       "    <tr>\n",
       "      <th>1</th>\n",
       "      <td>1</td>\n",
       "      <td>5/10/2015 23:51</td>\n",
       "      <td>Sunday</td>\n",
       "      <td>BAYVIEW</td>\n",
       "      <td>3RD ST / REVERE AV</td>\n",
       "      <td>-122.391523</td>\n",
       "      <td>37.732432</td>\n",
       "    </tr>\n",
       "    <tr>\n",
       "      <th>2</th>\n",
       "      <td>2</td>\n",
       "      <td>5/10/2015 23:50</td>\n",
       "      <td>Sunday</td>\n",
       "      <td>NORTHERN</td>\n",
       "      <td>2000 Block of GOUGH ST</td>\n",
       "      <td>-122.426002</td>\n",
       "      <td>37.792212</td>\n",
       "    </tr>\n",
       "    <tr>\n",
       "      <th>3</th>\n",
       "      <td>3</td>\n",
       "      <td>5/10/2015 23:45</td>\n",
       "      <td>Sunday</td>\n",
       "      <td>INGLESIDE</td>\n",
       "      <td>4700 Block of MISSION ST</td>\n",
       "      <td>-122.437394</td>\n",
       "      <td>37.721412</td>\n",
       "    </tr>\n",
       "    <tr>\n",
       "      <th>4</th>\n",
       "      <td>4</td>\n",
       "      <td>5/10/2015 23:45</td>\n",
       "      <td>Sunday</td>\n",
       "      <td>INGLESIDE</td>\n",
       "      <td>4700 Block of MISSION ST</td>\n",
       "      <td>-122.437394</td>\n",
       "      <td>37.721412</td>\n",
       "    </tr>\n",
       "  </tbody>\n",
       "</table>\n",
       "</div>"
      ],
      "text/plain": [
       "   Id            Dates DayOfWeek PdDistrict                   Address  \\\n",
       "0   0  5/10/2015 23:59    Sunday    BAYVIEW   2000 Block of THOMAS AV   \n",
       "1   1  5/10/2015 23:51    Sunday    BAYVIEW        3RD ST / REVERE AV   \n",
       "2   2  5/10/2015 23:50    Sunday   NORTHERN    2000 Block of GOUGH ST   \n",
       "3   3  5/10/2015 23:45    Sunday  INGLESIDE  4700 Block of MISSION ST   \n",
       "4   4  5/10/2015 23:45    Sunday  INGLESIDE  4700 Block of MISSION ST   \n",
       "\n",
       "            X          Y  \n",
       "0 -122.399588  37.735051  \n",
       "1 -122.391523  37.732432  \n",
       "2 -122.426002  37.792212  \n",
       "3 -122.437394  37.721412  \n",
       "4 -122.437394  37.721412  "
      ]
     },
     "execution_count": 6,
     "metadata": {},
     "output_type": "execute_result"
    }
   ],
   "source": [
    "import pandas as pd\n",
    "\n",
    "# Membaca data dari folder data/01_raw\n",
    "df = pd.read_csv('../data/01_raw/criminal_data.csv')\n",
    "\n",
    "# Menampilkan 5 baris pertama\n",
    "df.head()\n"
   ]
  },
  {
   "cell_type": "code",
   "execution_count": 8,
   "id": "48c050a5",
   "metadata": {},
   "outputs": [
    {
     "name": "stdout",
     "output_type": "stream",
     "text": [
      "(884262, 7)\n"
     ]
    }
   ],
   "source": [
    "print(df.shape)  # Menampilkan dimensi DataFrame"
   ]
  },
  {
   "cell_type": "code",
   "execution_count": 9,
   "id": "c66e2e3f",
   "metadata": {},
   "outputs": [
    {
     "name": "stdout",
     "output_type": "stream",
     "text": [
      "Index(['Id', 'Dates', 'DayOfWeek', 'PdDistrict', 'Address', 'X', 'Y'], dtype='object')\n"
     ]
    }
   ],
   "source": [
    "print(df.columns)  # Menampilkan nama-nama kolom"
   ]
  },
  {
   "cell_type": "code",
   "execution_count": 10,
   "id": "e6964754",
   "metadata": {},
   "outputs": [
    {
     "name": "stdout",
     "output_type": "stream",
     "text": [
      "<class 'pandas.core.frame.DataFrame'>\n",
      "RangeIndex: 884262 entries, 0 to 884261\n",
      "Data columns (total 7 columns):\n",
      " #   Column      Non-Null Count   Dtype  \n",
      "---  ------      --------------   -----  \n",
      " 0   Id          884262 non-null  int64  \n",
      " 1   Dates       884262 non-null  object \n",
      " 2   DayOfWeek   884262 non-null  object \n",
      " 3   PdDistrict  884262 non-null  object \n",
      " 4   Address     884262 non-null  object \n",
      " 5   X           884262 non-null  float64\n",
      " 6   Y           884262 non-null  float64\n",
      "dtypes: float64(2), int64(1), object(4)\n",
      "memory usage: 47.2+ MB\n",
      "None\n"
     ]
    }
   ],
   "source": [
    "print(df.info())  # Menampilkan informasi umum tentang DataFrame"
   ]
  },
  {
   "cell_type": "markdown",
   "id": "ba800579",
   "metadata": {},
   "source": [
    "### 🧾 Informasi Umum Dataset\n",
    "\n",
    "Berikut adalah hasil pemeriksaan struktur DataFrame menggunakan `df.info()`:\n",
    "\n",
    "- **Jumlah entri (baris):** 884.262\n",
    "- **Jumlah kolom:** 7\n",
    "- **Ukuran memori:** ~47.2 MB\n",
    "\n",
    "| No. | Nama Kolom   | Non-Null | Tipe Data | Keterangan                         |\n",
    "|-----|--------------|----------|-----------|------------------------------------|\n",
    "| 1   | Id           | 884.262  | int64     | ID unik tiap kejadian              |\n",
    "| 2   | Dates        | 884.262  | object    | Waktu kejadian      |\n",
    "| 3   | DayOfWeek    | 884.262  | object    | Hari kejadian (Senin s.d. Minggu)  |\n",
    "| 4   | PdDistrict   | 884.262  | object    | Distrik kepolisian                 |\n",
    "| 5   | Address      | 884.262  | object    | Alamat kejadian                    |\n",
    "| 6   | X            | 884.262  | float64   | Longitude lokasi kejadian          |\n",
    "| 7   | Y            | 884.262  | float64   | Latitude lokasi kejadian           |\n",
    "\n",
    "### ✅ Kesimpulan\n",
    "\n",
    "- Tidak ada nilai kosong (`null`) di seluruh kolom.\n",
    "- Kolom `Dates` masih bertipe `object`, sehingga perlu preprocessing untuk mengubah data ke `datetime` agar dapat dilakukan analisis waktu.\n",
    "- Kolom lokasi (`X`, `Y`) siap digunakan untuk **visualisasi spasial** (seperti heatmap lokasi)."
   ]
  },
  {
   "cell_type": "code",
   "execution_count": 12,
   "id": "aded7206",
   "metadata": {},
   "outputs": [
    {
     "name": "stdout",
     "output_type": "stream",
     "text": [
      "PdDistrict\n",
      "SOUTHERN      157456\n",
      "MISSION       120449\n",
      "NORTHERN      107017\n",
      "BAYVIEW        89591\n",
      "CENTRAL        86130\n",
      "TENDERLOIN     81747\n",
      "INGLESIDE      80084\n",
      "TARAVAL        66617\n",
      "PARK           50199\n",
      "RICHMOND       44972\n",
      "Name: count, dtype: int64\n"
     ]
    }
   ],
   "source": [
    "print(df['PdDistrict'].value_counts())  # frekuensi kategori"
   ]
  },
  {
   "cell_type": "markdown",
   "id": "145f07f7",
   "metadata": {},
   "source": [
    "### 📍 Distribusi Kejadian Kriminal berdasarkan Distrik Polisi (`PdDistrict`)\n",
    "\n",
    "Berikut adalah jumlah kejadian kriminal yang tercatat di masing-masing distrik di San Francisco selama periode data:\n",
    "\n",
    "| No. | Distrik       | Jumlah Kejadian |\n",
    "|-----|---------------|-----------------|\n",
    "| 1   | SOUTHERN      | 157,456         |\n",
    "| 2   | MISSION       | 120,449         |\n",
    "| 3   | NORTHERN      | 107,017         |\n",
    "| 4   | BAYVIEW       | 89,591          |\n",
    "| 5   | CENTRAL       | 86,130          |\n",
    "| 6   | TENDERLOIN    | 81,747          |\n",
    "| 7   | INGLESIDE     | 80,084          |\n",
    "| 8   | TARAVAL       | 66,617          |\n",
    "| 9   | PARK          | 50,199          |\n",
    "| 10  | RICHMOND      | 44,972          |\n",
    "\n",
    "### 🧠 Insight\n",
    "\n",
    "-  **Distrik Southern** memiliki jumlah kejadian kriminal terbanyak, yaitu lebih dari **150 ribu kejadian**. Kemungkinan besar karena lokasinya yang padat dan menjadi pusat kegiatan kota.\n",
    "- **Distrik Richmond dan Park** merupakan dua distrik dengan jumlah kejadian kriminal paling sedikit.\n",
    "```"
   ]
  },
  {
   "cell_type": "code",
   "execution_count": 13,
   "id": "1e87a54a",
   "metadata": {},
   "outputs": [
    {
     "name": "stdout",
     "output_type": "stream",
     "text": [
      "Id            0\n",
      "Dates         0\n",
      "DayOfWeek     0\n",
      "PdDistrict    0\n",
      "Address       0\n",
      "X             0\n",
      "Y             0\n",
      "dtype: int64\n"
     ]
    }
   ],
   "source": [
    "print(df.isnull().sum()) # Menampilkan jumlah nilai yang hilang di setiap kolom"
   ]
  },
  {
   "cell_type": "markdown",
   "id": "20c156fb",
   "metadata": {},
   "source": [
    "### 🧹 Pemeriksaan Nilai Hilang (Missing Values)\n",
    "\n",
    "Eksplorasi data juga dilakukan dengan memeriksa apakah terdapat nilai kosong (missing value) di setiap kolom. Hasilnya adalah sebagai berikut:\n",
    "\n",
    "| Kolom       | Jumlah Missing Value |\n",
    "|-------------|----------------------|\n",
    "| Id          | 0                    |\n",
    "| Dates       | 0                    |\n",
    "| DayOfWeek   | 0                    |\n",
    "| PdDistrict  | 0                    |\n",
    "| Address     | 0                    |\n",
    "| X (Longitude) | 0                  |\n",
    "| Y (Latitude)  | 0                  |\n",
    "\n",
    "### ✅ Kesimpulan\n",
    "\n",
    "- Tidak ditemukan nilai kosong pada dataset.\n",
    "- Semua kolom memiliki data yang lengkap sehingga **tidak perlu dilakukan imputasi atau pembersihan** terkait missing value.\n",
    "```"
   ]
  },
  {
   "cell_type": "code",
   "execution_count": 15,
   "id": "5f3b2ff0",
   "metadata": {},
   "outputs": [
    {
     "name": "stdout",
     "output_type": "stream",
     "text": [
      "188352\n"
     ]
    }
   ],
   "source": [
    "subset_cols = ['Dates', 'PdDistrict', 'Address', 'X', 'Y']\n",
    "print(df.duplicated(subset=subset_cols).sum())  # Menampilkan jumlah baris duplikat berdasarkan subset kolom tertentu"
   ]
  },
  {
   "cell_type": "markdown",
   "id": "4ebb4843",
   "metadata": {},
   "source": [
    "### 🔍 Temuan Awal: Duplikasi Data\n",
    "\n",
    "Selama proses eksplorasi data, ditemukan **188.352 baris data duplikat** berdasarkan kombinasi kolom:\n",
    "\n",
    "- `Dates` (waktu kejadian)\n",
    "- `PdDistrict` (distrik kepolisian)\n",
    "- `Address` (alamat kejadian)\n",
    "- `X`, `Y` (koordinat lokasi)\n",
    "\n",
    "Hal ini menunjukkan bahwa ada banyak entri yang mencatat kejadian kriminal yang identik, baik karena pencatatan ganda maupun duplikasi saat pengumpulan data.\n",
    "```"
   ]
  },
  {
   "cell_type": "code",
   "execution_count": 32,
   "id": "f06f099a",
   "metadata": {},
   "outputs": [
    {
     "data": {
      "image/png": "[encoded data removed]",
      "text/plain": [
       "<Figure size 1200x600 with 1 Axes>"
      ]
     },
     "metadata": {},
     "output_type": "display_data"
    }
   ],
   "source": [
    "# Hitung jumlah kejadian per jam\n",
    "criminal_hour = df['Dates'].dt.hour.value_counts().sort_index()\n",
    "\n",
    "# Ubah menjadi DataFrame\n",
    "criminal_hour_df = pd.DataFrame({\n",
    "    'Jam': criminal_hour.index,\n",
    "    'Jumlah Kejadian': criminal_hour.values\n",
    "})\n",
    "\n",
    "import seaborn as sns\n",
    "import matplotlib.pyplot as plt\n",
    "\n",
    "plt.figure(figsize=(12, 6))\n",
    "sns.barplot(\n",
    "    x='Jam',\n",
    "    y='Jumlah Kejadian',\n",
    "    hue='Jam',                 \n",
    "    data=criminal_hour_df,\n",
    "    palette='Reds',\n",
    "    legend=False              \n",
    ")\n",
    "plt.title('Visualisasi Kejadian Kriminal per Jam')\n",
    "plt.xlabel('Jam (0–23)')\n",
    "plt.ylabel('Jumlah Kejadian')\n",
    "plt.grid(True, axis='y', linestyle='--', alpha=0.5)\n",
    "plt.tight_layout()\n",
    "plt.show()\n",
    "\n"
   ]
  },
  {
   "cell_type": "markdown",
   "id": "fe4fc2e3",
   "metadata": {},
   "source": [
    "## ⏱️ Analisis Waktu Kejadian Kriminal per Jam\n",
    "\n",
    "Setelah melakukan konversi kolom `Dates` ke dalam format datetime, dilakukan analisis distribusi kejadian kriminal berdasarkan jam.\n",
    "\n",
    "### 📅 Rentang Waktu Data:\n",
    "Data mencakup kejadian kriminal dari:\n",
    "**1 Januari 2003** hingga **10 Mei 2015**, mencakup periode lebih dari 12 tahun.\n",
    "\n"
   ]
  }
 ],
 "metadata": {
  "kernelspec": {
   "display_name": "Python 3",
   "language": "python",
   "name": "python3"
  },
  "language_info": {
   "codemirror_mode": {
    "name": "ipython",
    "version": 3
   },
   "file_extension": ".py",
   "mimetype": "text/x-python",
   "name": "python",
   "nbconvert_exporter": "python",
   "pygments_lexer": "ipython3",
   "version": "3.13.3"
  }
 },
 "nbformat": 4,
 "nbformat_minor": 5
}
